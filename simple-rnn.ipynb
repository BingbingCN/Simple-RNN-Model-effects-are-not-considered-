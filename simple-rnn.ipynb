{
 "cells": [
  {
   "cell_type": "code",
   "execution_count": 1,
   "id": "e839f965",
   "metadata": {
    "execution": {
     "iopub.execute_input": "2022-03-04T09:25:28.736877Z",
     "iopub.status.busy": "2022-03-04T09:25:28.731920Z",
     "iopub.status.idle": "2022-03-04T09:25:30.502462Z",
     "shell.execute_reply": "2022-03-04T09:25:30.501826Z",
     "shell.execute_reply.started": "2022-03-04T09:18:56.275360Z"
    },
    "papermill": {
     "duration": 1.83047,
     "end_time": "2022-03-04T09:25:30.502715",
     "exception": false,
     "start_time": "2022-03-04T09:25:28.672245",
     "status": "completed"
    },
    "tags": []
   },
   "outputs": [
    {
     "name": "stdout",
     "output_type": "stream",
     "text": [
      "cuda:0\n"
     ]
    }
   ],
   "source": [
    "import torch\n",
    "import torch.nn as nn\n",
    "#使用torchtext构建语料库，\n",
    "from torchtext.legacy import data,datasets\n",
    "device=torch.device(\"cuda:0\" if torch.cuda.is_available() else \"cpu\")\n",
    "print(device)"
   ]
  },
  {
   "cell_type": "code",
   "execution_count": 2,
   "id": "754bab48",
   "metadata": {
    "execution": {
     "iopub.execute_input": "2022-03-04T09:25:30.560182Z",
     "iopub.status.busy": "2022-03-04T09:25:30.559251Z",
     "iopub.status.idle": "2022-03-04T09:25:41.743868Z",
     "shell.execute_reply": "2022-03-04T09:25:41.743267Z",
     "shell.execute_reply.started": "2022-03-04T09:18:56.284674Z"
    },
    "jupyter": {
     "outputs_hidden": false
    },
    "papermill": {
     "duration": 11.214735,
     "end_time": "2022-03-04T09:25:41.744028",
     "exception": false,
     "start_time": "2022-03-04T09:25:30.529293",
     "status": "completed"
    },
    "pycharm": {
     "name": "#%%\n"
    },
    "tags": []
   },
   "outputs": [],
   "source": [
    "#创建一些可以重复利用的随机种子\n",
    "'''\n",
    "torch.backends.cudnn.benchmark\n",
    "简介：总的来说，大部分情况下，设置这个 flag 可以让内置的 cuDNN 的 auto-tuner 自动寻找最适合当前配置的高效算法，来达到优化运行效率的问题。\n",
    "一般来讲，应该遵循以下准则：\n",
    "如果网络的输入数据维度（包括 batch size，图片大小，输入的通道）或类型上变化不大，设置 torch.backends.cudnn.benchmark = true 可以增加运行效率；\n",
    "如果网络的输入数据在每次 iteration 都变化的话，会导致 cnDNN 每次都会去寻找一遍最优配置，这样反而会降低运行效率。\n",
    "'''\n",
    "# SEED = 1234\n",
    "# torch.manual_seed(SEED)\n",
    "torch.backends.cudnn.deterministic=True\n",
    "#使用spacy这个标记器将连续的字符串标记，不设置默认情况是将字符串拆分为空格，后面的language表示的是我们的使用的拆分模型\n",
    "TEXT=data.Field(tokenize='spacy',tokenizer_language='en_core_web_sm')\n",
    "Label=data.LabelField(dtype=torch.float)"
   ]
  },
  {
   "cell_type": "code",
   "execution_count": 3,
   "id": "c00273e0",
   "metadata": {
    "execution": {
     "iopub.execute_input": "2022-03-04T09:25:41.795028Z",
     "iopub.status.busy": "2022-03-04T09:25:41.793972Z",
     "iopub.status.idle": "2022-03-04T09:27:31.101986Z",
     "shell.execute_reply": "2022-03-04T09:27:31.100825Z",
     "shell.execute_reply.started": "2022-03-04T09:18:57.392126Z"
    },
    "jupyter": {
     "outputs_hidden": false
    },
    "papermill": {
     "duration": 109.335696,
     "end_time": "2022-03-04T09:27:31.102181",
     "exception": false,
     "start_time": "2022-03-04T09:25:41.766485",
     "status": "completed"
    },
    "pycharm": {
     "name": "#%%\n"
    },
    "tags": []
   },
   "outputs": [
    {
     "name": "stdout",
     "output_type": "stream",
     "text": [
      "downloading aclImdb_v1.tar.gz\n"
     ]
    },
    {
     "name": "stderr",
     "output_type": "stream",
     "text": [
      "aclImdb_v1.tar.gz: 100%|██████████| 84.1M/84.1M [00:06<00:00, 12.2MB/s]\n"
     ]
    }
   ],
   "source": [
    "train_data,test_data=datasets.IMDB.splits(TEXT,Label)"
   ]
  },
  {
   "cell_type": "code",
   "execution_count": 4,
   "id": "0075dff5",
   "metadata": {
    "execution": {
     "iopub.execute_input": "2022-03-04T09:27:31.207164Z",
     "iopub.status.busy": "2022-03-04T09:27:31.196998Z",
     "iopub.status.idle": "2022-03-04T09:27:31.233450Z",
     "shell.execute_reply": "2022-03-04T09:27:31.234101Z",
     "shell.execute_reply.started": "2022-03-04T09:19:53.482536Z"
    },
    "jupyter": {
     "outputs_hidden": false
    },
    "papermill": {
     "duration": 0.089697,
     "end_time": "2022-03-04T09:27:31.234303",
     "exception": false,
     "start_time": "2022-03-04T09:27:31.144606",
     "status": "completed"
    },
    "pycharm": {
     "name": "#%%\n"
    },
    "tags": []
   },
   "outputs": [],
   "source": [
    "import random\n",
    "#可以通过split_ratio划分验证集的比例\n",
    "train_data,valid_data=train_data.split(random_state=random.seed(1234))"
   ]
  },
  {
   "cell_type": "code",
   "execution_count": 5,
   "id": "42539d30",
   "metadata": {
    "execution": {
     "iopub.execute_input": "2022-03-04T09:27:31.324820Z",
     "iopub.status.busy": "2022-03-04T09:27:31.323915Z",
     "iopub.status.idle": "2022-03-04T09:27:31.327744Z",
     "shell.execute_reply": "2022-03-04T09:27:31.328296Z",
     "shell.execute_reply.started": "2022-03-04T09:19:53.520485Z"
    },
    "jupyter": {
     "outputs_hidden": false
    },
    "papermill": {
     "duration": 0.052143,
     "end_time": "2022-03-04T09:27:31.328470",
     "exception": false,
     "start_time": "2022-03-04T09:27:31.276327",
     "status": "completed"
    },
    "pycharm": {
     "name": "#%%\n"
    },
    "tags": []
   },
   "outputs": [
    {
     "name": "stdout",
     "output_type": "stream",
     "text": [
      "Number of training examples: 17500\n",
      "Number of validation examples: 7500\n",
      "Number of testing examples: 25000\n"
     ]
    }
   ],
   "source": [
    "print(f'Number of training examples: {len(train_data)}')\n",
    "print(f'Number of validation examples: {len(valid_data)}')\n",
    "print(f'Number of testing examples: {len(test_data)}')"
   ]
  },
  {
   "cell_type": "code",
   "execution_count": 6,
   "id": "9d6b9ce0",
   "metadata": {
    "execution": {
     "iopub.execute_input": "2022-03-04T09:27:31.453183Z",
     "iopub.status.busy": "2022-03-04T09:27:31.448078Z",
     "iopub.status.idle": "2022-03-04T09:27:32.621043Z",
     "shell.execute_reply": "2022-03-04T09:27:32.620087Z",
     "shell.execute_reply.started": "2022-03-04T09:19:53.528851Z"
    },
    "jupyter": {
     "outputs_hidden": false
    },
    "papermill": {
     "duration": 1.249907,
     "end_time": "2022-03-04T09:27:32.621212",
     "exception": false,
     "start_time": "2022-03-04T09:27:31.371305",
     "status": "completed"
    },
    "pycharm": {
     "name": "#%%\n"
    },
    "tags": []
   },
   "outputs": [],
   "source": [
    "#构建词汇表，有一个最大的数值25000（仅保留最常见的）\n",
    "max_vocab_size=100000\n",
    "TEXT.build_vocab(train_data,max_size=max_vocab_size)\n",
    "Label.build_vocab(train_data)"
   ]
  },
  {
   "cell_type": "code",
   "execution_count": 7,
   "id": "725a5bdf",
   "metadata": {
    "execution": {
     "iopub.execute_input": "2022-03-04T09:27:32.711666Z",
     "iopub.status.busy": "2022-03-04T09:27:32.710877Z",
     "iopub.status.idle": "2022-03-04T09:27:32.714454Z",
     "shell.execute_reply": "2022-03-04T09:27:32.714994Z",
     "shell.execute_reply.started": "2022-03-04T09:19:54.466764Z"
    },
    "jupyter": {
     "outputs_hidden": false
    },
    "papermill": {
     "duration": 0.052373,
     "end_time": "2022-03-04T09:27:32.715154",
     "exception": false,
     "start_time": "2022-03-04T09:27:32.662781",
     "status": "completed"
    },
    "pycharm": {
     "name": "#%%\n"
    },
    "tags": []
   },
   "outputs": [
    {
     "name": "stdout",
     "output_type": "stream",
     "text": [
      "Unique tokens in TEXT vocabulary: 100002\n",
      "Unique tokens in LABEL vocabulary: 2\n"
     ]
    }
   ],
   "source": [
    "print(f\"Unique tokens in TEXT vocabulary: {len(TEXT.vocab)}\")\n",
    "print(f\"Unique tokens in LABEL vocabulary: {len(Label.vocab)}\")"
   ]
  },
  {
   "cell_type": "code",
   "execution_count": 8,
   "id": "eb22173d",
   "metadata": {
    "execution": {
     "iopub.execute_input": "2022-03-04T09:27:32.829116Z",
     "iopub.status.busy": "2022-03-04T09:27:32.813755Z",
     "iopub.status.idle": "2022-03-04T09:27:32.840650Z",
     "shell.execute_reply": "2022-03-04T09:27:32.839938Z",
     "shell.execute_reply.started": "2022-03-04T09:19:54.474752Z"
    },
    "jupyter": {
     "outputs_hidden": false
    },
    "papermill": {
     "duration": 0.083258,
     "end_time": "2022-03-04T09:27:32.840805",
     "exception": false,
     "start_time": "2022-03-04T09:27:32.757547",
     "status": "completed"
    },
    "pycharm": {
     "name": "#%%\n"
    },
    "tags": []
   },
   "outputs": [
    {
     "name": "stdout",
     "output_type": "stream",
     "text": [
      "[('the', 202125), (',', 193002), ('.', 166119), ('and', 110200), ('a', 109507), ('of', 100808), ('to', 93707), ('is', 76272), ('in', 61485), ('I', 54813)]\n",
      "['<unk>', '<pad>', 'the', ',', '.', 'and', 'a', 'of', 'to', 'is']\n",
      "defaultdict(None, {'neg': 0, 'pos': 1})\n"
     ]
    }
   ],
   "source": [
    "print(TEXT.vocab.freqs.most_common(10))\n",
    "#通过itos，stoi直接查看词汇表\n",
    "print(TEXT.vocab.itos[:10])\n",
    "print(Label.vocab.stoi)"
   ]
  },
  {
   "cell_type": "code",
   "execution_count": 9,
   "id": "f6d2ac72",
   "metadata": {
    "execution": {
     "iopub.execute_input": "2022-03-04T09:27:32.933782Z",
     "iopub.status.busy": "2022-03-04T09:27:32.932797Z",
     "iopub.status.idle": "2022-03-04T09:27:32.936259Z",
     "shell.execute_reply": "2022-03-04T09:27:32.935760Z",
     "shell.execute_reply.started": "2022-03-04T09:19:54.502166Z"
    },
    "jupyter": {
     "outputs_hidden": false
    },
    "papermill": {
     "duration": 0.05208,
     "end_time": "2022-03-04T09:27:32.936391",
     "exception": false,
     "start_time": "2022-03-04T09:27:32.884311",
     "status": "completed"
    },
    "pycharm": {
     "name": "#%%\n"
    },
    "tags": []
   },
   "outputs": [],
   "source": [
    "#最后一步：创建迭代器 BucketIterator 它是一种特殊类型的迭代器，它将返回一批示例，其中每个示例的长度相似，从而最小化每个示例的填充量。\n",
    "Batch_size=64\n",
    "train_iter,valid_iter,test_iter=data.BucketIterator.splits((train_data,valid_data,test_data),batch_size=Batch_size,device=device)"
   ]
  },
  {
   "cell_type": "code",
   "execution_count": 10,
   "id": "6cf28ea5",
   "metadata": {
    "execution": {
     "iopub.execute_input": "2022-03-04T09:27:33.048385Z",
     "iopub.status.busy": "2022-03-04T09:27:33.047287Z",
     "iopub.status.idle": "2022-03-04T09:27:33.054486Z",
     "shell.execute_reply": "2022-03-04T09:27:33.053881Z",
     "shell.execute_reply.started": "2022-03-04T09:19:54.793356Z"
    },
    "jupyter": {
     "outputs_hidden": false
    },
    "papermill": {
     "duration": 0.07603,
     "end_time": "2022-03-04T09:27:33.054971",
     "exception": false,
     "start_time": "2022-03-04T09:27:32.978941",
     "status": "completed"
    },
    "pycharm": {
     "name": "#%%\n"
    },
    "tags": []
   },
   "outputs": [],
   "source": [
    "'''\n",
    "下面是构建模型：__init__模块来构建神经网络的layer，\n",
    "然后输入批次通过嵌入层进行嵌入，这为我们提供了句子的密集向量表示。 Embedded 是一个大小为 [sentence length, batch size, embedding dim] 的张量。\n",
    "然后将嵌入的数据输入 RNN。 在某些框架中，您必须将初始隐藏状态 输入 RNN，但是在 PyTorch 中，如果没有将初始隐藏状态作为参数传递，则默认为全零张量。\n",
    "RNN 返回 2 个张量，大小为 [sentence length, batch size, hidden dim] 的输出和大小为 [1, batch size, hidden dim] 的隐藏。 输出是每个时间步的隐藏状态的串联，而隐藏只是最终的隐藏状态。 我们使用 assert 语句来验证这一点。 请注意挤压方法，该方法用于删除大小为 1 的维度。\n",
    "最后，我们通过线性层 fc 提供最后一个隐藏状态 hidden 以产生预测。\n",
    "'''\n",
    "class RNN(nn.Module):\n",
    "    def __init__(self,input_dim,embedding_dim,hidden_dim,output_dim):\n",
    "        super().__init__()\n",
    "        #通过嵌入层将稀疏的独热向量转化为dense向量\n",
    "        self.embedding=nn.Embedding(input_dim,embedding_dim)\n",
    "        self.rnn=nn.RNN(embedding_dim,hidden_dim)\n",
    "        self.fc=nn.Linear(hidden_dim,output_dim)\n",
    "    def forward(self,text):\n",
    "        #输入层的维度是独热向量的维度，同词汇表的size相同\n",
    "        embedded=self.embedding(text)\n",
    "        #嵌入层的维度即是dense word vector的size，通常在50-250之间，取决于词汇表的大小\n",
    "        output,hidden=self.rnn(embedded)\n",
    "        #output = [sent len, batch size, hid dim]\n",
    "        #hidden = [1, batch size, hid dim]\n",
    "        #rnn返回两个值是output表示的是每个时间段的隐藏的串联，hidden是最终的隐藏状态，我们使用assert来进行验证，相等则继续执行\n",
    "        assert torch.equal(output[-1,:,:], hidden.squeeze(0))\n",
    "        return self.fc(hidden.squeeze(0))"
   ]
  },
  {
   "cell_type": "code",
   "execution_count": 11,
   "id": "37e1abc9",
   "metadata": {
    "execution": {
     "iopub.execute_input": "2022-03-04T09:27:33.247034Z",
     "iopub.status.busy": "2022-03-04T09:27:33.245659Z",
     "iopub.status.idle": "2022-03-04T09:27:42.840189Z",
     "shell.execute_reply": "2022-03-04T09:27:42.840710Z",
     "shell.execute_reply.started": "2022-03-04T09:19:54.804385Z"
    },
    "jupyter": {
     "outputs_hidden": false
    },
    "papermill": {
     "duration": 9.681746,
     "end_time": "2022-03-04T09:27:42.840888",
     "exception": false,
     "start_time": "2022-03-04T09:27:33.159142",
     "status": "completed"
    },
    "pycharm": {
     "name": "#%%\n"
    },
    "tags": []
   },
   "outputs": [
    {
     "data": {
      "text/plain": [
       "RNN(\n",
       "  (embedding): Embedding(100002, 100)\n",
       "  (rnn): RNN(100, 256)\n",
       "  (fc): Linear(in_features=256, out_features=1, bias=True)\n",
       ")"
      ]
     },
     "execution_count": 11,
     "metadata": {},
     "output_type": "execute_result"
    }
   ],
   "source": [
    "INPUT_DIM = len(TEXT.vocab)\n",
    "EMBEDDING_DIM = 100\n",
    "HIDDEN_DIM = 256\n",
    "OUTPUT_DIM = 1\n",
    "\n",
    "model = RNN(INPUT_DIM, EMBEDDING_DIM, HIDDEN_DIM, OUTPUT_DIM)\n",
    "model.to(device)"
   ]
  },
  {
   "cell_type": "code",
   "execution_count": 12,
   "id": "e967bc87",
   "metadata": {
    "execution": {
     "iopub.execute_input": "2022-03-04T09:27:42.935772Z",
     "iopub.status.busy": "2022-03-04T09:27:42.934646Z",
     "iopub.status.idle": "2022-03-04T09:27:42.937032Z",
     "shell.execute_reply": "2022-03-04T09:27:42.937714Z",
     "shell.execute_reply.started": "2022-03-04T09:21:39.225006Z"
    },
    "jupyter": {
     "outputs_hidden": false
    },
    "papermill": {
     "duration": 0.052759,
     "end_time": "2022-03-04T09:27:42.937875",
     "exception": false,
     "start_time": "2022-03-04T09:27:42.885116",
     "status": "completed"
    },
    "pycharm": {
     "name": "#%%\n"
    },
    "tags": []
   },
   "outputs": [],
   "source": [
    "'''\n",
    "训练模型：\n",
    "1、首先是将计算图中的梯度归零\n",
    "2、从loss函数中计算网络中的损失\n",
    "3、使用梯度来更新网络参数\n",
    "'''\n",
    "import torch.optim as optim\n",
    "optimizer=optim.Adam(model.parameters())\n",
    "lossfunction=nn.BCEWithLogitsLoss()"
   ]
  },
  {
   "cell_type": "code",
   "execution_count": 13,
   "id": "260e05ba",
   "metadata": {
    "execution": {
     "iopub.execute_input": "2022-03-04T09:27:43.033278Z",
     "iopub.status.busy": "2022-03-04T09:27:43.032241Z",
     "iopub.status.idle": "2022-03-04T09:27:43.034468Z",
     "shell.execute_reply": "2022-03-04T09:27:43.035028Z",
     "shell.execute_reply.started": "2022-03-04T09:21:46.304055Z"
    },
    "jupyter": {
     "outputs_hidden": false
    },
    "papermill": {
     "duration": 0.053374,
     "end_time": "2022-03-04T09:27:43.035206",
     "exception": false,
     "start_time": "2022-03-04T09:27:42.981832",
     "status": "completed"
    },
    "pycharm": {
     "name": "#%%\n"
    },
    "tags": []
   },
   "outputs": [],
   "source": [
    "# #将我们的模型和损失函数放到GPU上\n",
    "\n",
    "lossfunction=lossfunction.to(device)"
   ]
  },
  {
   "cell_type": "code",
   "execution_count": 14,
   "id": "c2b89ba8",
   "metadata": {
    "execution": {
     "iopub.execute_input": "2022-03-04T09:27:43.130373Z",
     "iopub.status.busy": "2022-03-04T09:27:43.129253Z",
     "iopub.status.idle": "2022-03-04T09:27:43.131722Z",
     "shell.execute_reply": "2022-03-04T09:27:43.132332Z",
     "shell.execute_reply.started": "2022-03-04T09:21:48.693555Z"
    },
    "jupyter": {
     "outputs_hidden": false
    },
    "papermill": {
     "duration": 0.054037,
     "end_time": "2022-03-04T09:27:43.132491",
     "exception": false,
     "start_time": "2022-03-04T09:27:43.078454",
     "status": "completed"
    },
    "pycharm": {
     "name": "#%%\n"
    },
    "tags": []
   },
   "outputs": [],
   "source": [
    "#计算accuracy\n",
    "def binary_accuracy(preds, y):\n",
    "    #round predictions to the closest integer\n",
    "    rounded_preds = torch.round(torch.sigmoid(preds))\n",
    "    correct = (rounded_preds == y).float() #convert into float for division\n",
    "    acc = correct.sum() / len(correct)\n",
    "    return acc"
   ]
  },
  {
   "cell_type": "code",
   "execution_count": 15,
   "id": "d8dae0e4",
   "metadata": {
    "execution": {
     "iopub.execute_input": "2022-03-04T09:27:43.229316Z",
     "iopub.status.busy": "2022-03-04T09:27:43.228203Z",
     "iopub.status.idle": "2022-03-04T09:27:43.230856Z",
     "shell.execute_reply": "2022-03-04T09:27:43.231379Z",
     "shell.execute_reply.started": "2022-03-04T09:21:52.088990Z"
    },
    "jupyter": {
     "outputs_hidden": false
    },
    "papermill": {
     "duration": 0.055779,
     "end_time": "2022-03-04T09:27:43.231577",
     "exception": false,
     "start_time": "2022-03-04T09:27:43.175798",
     "status": "completed"
    },
    "pycharm": {
     "name": "#%%\n"
    },
    "tags": []
   },
   "outputs": [],
   "source": [
    "def train(model,iterator,optimizer,lossfunction,progress):\n",
    "    epoch_loss=0\n",
    "    epoch_acc=0\n",
    "    model.train()\n",
    "    for batch in iterator:\n",
    "        optimizer.zero_grad()\n",
    "        prediction=model(batch.text).squeeze(1)\n",
    "        loss=lossfunction(prediction,batch.label)\n",
    "        acc=binary_accuracy(prediction,batch.label)\n",
    "        loss.backward()\n",
    "        optimizer.step()\n",
    "        epoch_loss += loss.item()\n",
    "        epoch_acc += acc.item()\n",
    "        progress.append(loss.item())\n",
    "    return epoch_loss / len(iterator), epoch_acc / len(iterator),progress"
   ]
  },
  {
   "cell_type": "code",
   "execution_count": 16,
   "id": "7fd32a9f",
   "metadata": {
    "execution": {
     "iopub.execute_input": "2022-03-04T09:27:43.327941Z",
     "iopub.status.busy": "2022-03-04T09:27:43.326829Z",
     "iopub.status.idle": "2022-03-04T09:29:08.639001Z",
     "shell.execute_reply": "2022-03-04T09:29:08.636765Z",
     "shell.execute_reply.started": "2022-03-04T09:21:56.261141Z"
    },
    "jupyter": {
     "outputs_hidden": false
    },
    "papermill": {
     "duration": 85.363039,
     "end_time": "2022-03-04T09:29:08.639245",
     "exception": false,
     "start_time": "2022-03-04T09:27:43.276206",
     "status": "completed"
    },
    "pycharm": {
     "name": "#%%\n"
    },
    "tags": []
   },
   "outputs": [
    {
     "name": "stderr",
     "output_type": "stream",
     "text": [
      " 20%|██        | 1/5 [00:17<01:11, 17.80s/it]"
     ]
    },
    {
     "name": "stdout",
     "output_type": "stream",
     "text": [
      "\tTrain Loss: 0.702 | Train Acc: 49.97%\n"
     ]
    },
    {
     "name": "stderr",
     "output_type": "stream",
     "text": [
      " 40%|████      | 2/5 [00:34<00:52, 17.37s/it]"
     ]
    },
    {
     "name": "stdout",
     "output_type": "stream",
     "text": [
      "\tTrain Loss: 0.698 | Train Acc: 50.23%\n"
     ]
    },
    {
     "name": "stderr",
     "output_type": "stream",
     "text": [
      " 60%|██████    | 3/5 [00:51<00:34, 17.02s/it]"
     ]
    },
    {
     "name": "stdout",
     "output_type": "stream",
     "text": [
      "\tTrain Loss: 0.697 | Train Acc: 50.02%\n"
     ]
    },
    {
     "name": "stderr",
     "output_type": "stream",
     "text": [
      " 80%|████████  | 4/5 [01:08<00:16, 17.00s/it]"
     ]
    },
    {
     "name": "stdout",
     "output_type": "stream",
     "text": [
      "\tTrain Loss: 0.697 | Train Acc: 50.29%\n"
     ]
    },
    {
     "name": "stderr",
     "output_type": "stream",
     "text": [
      "100%|██████████| 5/5 [01:25<00:00, 17.06s/it]"
     ]
    },
    {
     "name": "stdout",
     "output_type": "stream",
     "text": [
      "\tTrain Loss: 0.697 | Train Acc: 49.88%\n"
     ]
    },
    {
     "name": "stderr",
     "output_type": "stream",
     "text": [
      "\n"
     ]
    }
   ],
   "source": [
    "from tqdm import tqdm\n",
    "n_epoch=5\n",
    "progress=[]\n",
    "for epoch in tqdm(range(n_epoch)):\n",
    "    loss,acc,progress=train(model,train_iter,optimizer,lossfunction,progress)\n",
    "    print(f'\\tTrain Loss: {loss:.3f} | Train Acc: {acc*100:.2f}%')\n",
    "\n",
    "\n"
   ]
  },
  {
   "cell_type": "code",
   "execution_count": 17,
   "id": "e2407b5b",
   "metadata": {
    "execution": {
     "iopub.execute_input": "2022-03-04T09:29:08.824184Z",
     "iopub.status.busy": "2022-03-04T09:29:08.823157Z",
     "iopub.status.idle": "2022-03-04T09:29:09.242201Z",
     "shell.execute_reply": "2022-03-04T09:29:09.242738Z",
     "shell.execute_reply.started": "2022-03-04T09:23:17.911598Z"
    },
    "jupyter": {
     "outputs_hidden": false
    },
    "papermill": {
     "duration": 0.513804,
     "end_time": "2022-03-04T09:29:09.242915",
     "exception": false,
     "start_time": "2022-03-04T09:29:08.729111",
     "status": "completed"
    },
    "pycharm": {
     "name": "#%%\n"
    },
    "tags": []
   },
   "outputs": [
    {
     "data": {
      "image/png": "[encoded data removed]",
      "text/plain": [
       "<Figure size 1152x576 with 1 Axes>"
      ]
     },
     "metadata": {
      "needs_background": "light"
     },
     "output_type": "display_data"
    }
   ],
   "source": [
    "import pandas as pd\n",
    "import matplotlib.pyplot as plt\n",
    "def plot_progress(progress):\n",
    "        df = pd.DataFrame(progress, columns=['loss'])\n",
    "        df.plot(ylim=(0), figsize=(16,8), alpha=0.1, marker='.', grid=True)\n",
    "        plt.title('Loss Changes')\n",
    "plot_progress(progress)"
   ]
  }
 ],
 "metadata": {
  "kernelspec": {
   "display_name": "Python 3",
   "language": "python",
   "name": "python3"
  },
  "language_info": {
   "codemirror_mode": {
    "name": "ipython",
    "version": 3
   },
   "file_extension": ".py",
   "mimetype": "text/x-python",
   "name": "python",
   "nbconvert_exporter": "python",
   "pygments_lexer": "ipython3",
   "version": "3.8.8"
  },
  "papermill": {
   "default_parameters": {},
   "duration": 234.811057,
   "end_time": "2022-03-04T09:29:13.056526",
   "environment_variables": {},
   "exception": null,
   "input_path": "__notebook__.ipynb",
   "output_path": "__notebook__.ipynb",
   "parameters": {},
   "start_time": "2022-03-04T09:25:18.245469",
   "version": "2.3.3"
  }
 },
 "nbformat": 4,
 "nbformat_minor": 5
}
